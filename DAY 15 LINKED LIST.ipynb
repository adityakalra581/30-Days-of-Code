{
 "cells": [
  {
   "cell_type": "markdown",
   "metadata": {},
   "source": [
    "### DAY 15: LINKED LIST"
   ]
  },
  {
   "cell_type": "markdown",
   "metadata": {},
   "source": [
    "- PROBLEM LINK: https://www.hackerrank.com/challenges/30-linked-list/problem"
   ]
  },
  {
   "cell_type": "markdown",
   "metadata": {},
   "source": [
    "![](LinkedListExplanation.png)"
   ]
  },
  {
   "cell_type": "code",
   "execution_count": 2,
   "metadata": {},
   "outputs": [
    {
     "name": "stdout",
     "output_type": "stream",
     "text": [
      "5\n",
      "4\n",
      "4\n",
      "7\n",
      "9\n",
      "2\n",
      "4 4 7 9 2 "
     ]
    }
   ],
   "source": [
    "class Node:\n",
    "    def __init__(self,data):\n",
    "        self.data=data\n",
    "        self.next=None\n",
    "class solution:\n",
    "    def display(self,head):\n",
    "        current=head\n",
    "        while current:\n",
    "            print(current.data,end=' ')\n",
    "            current=current.next\n",
    "            \n",
    "## Solution Begins            \n",
    "\n",
    "    def insert(self,head,data):\n",
    "        newNode=Node(data)\n",
    "        if not head:\n",
    "            return newNode\n",
    "        current=head\n",
    "        while current.next:\n",
    "            current=current.next\n",
    "        current.next=newNode    \n",
    "        return head\n",
    "\n",
    "## Solution Ends\n",
    "\n",
    "t=int(input())\n",
    "mylist=solution()\n",
    "head=None\n",
    "for i in range(t):\n",
    "    data=int(input())\n",
    "    head=mylist.insert(head,data)\n",
    "mylist.display(head)    \n",
    "    "
   ]
  },
  {
   "cell_type": "code",
   "execution_count": null,
   "metadata": {},
   "outputs": [],
   "source": []
  }
 ],
 "metadata": {
  "kernelspec": {
   "display_name": "Python 3",
   "language": "python",
   "name": "python3"
  },
  "language_info": {
   "codemirror_mode": {
    "name": "ipython",
    "version": 3
   },
   "file_extension": ".py",
   "mimetype": "text/x-python",
   "name": "python",
   "nbconvert_exporter": "python",
   "pygments_lexer": "ipython3",
   "version": "3.7.3"
  }
 },
 "nbformat": 4,
 "nbformat_minor": 2
}
